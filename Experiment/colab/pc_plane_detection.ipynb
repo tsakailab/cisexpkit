{
  "nbformat": 4,
  "nbformat_minor": 0,
  "metadata": {
    "colab": {
      "provenance": [],
      "authorship_tag": "ABX9TyN4u1t5RN/VpgjKmvVlCgIh",
      "include_colab_link": true
    },
    "kernelspec": {
      "name": "python3",
      "display_name": "Python 3"
    }
  },
  "cells": [
    {
      "cell_type": "markdown",
      "metadata": {
        "id": "view-in-github",
        "colab_type": "text"
      },
      "source": [
        "<a href=\"https://colab.research.google.com/github/tsakailab/cisexpkit/blob/master/Experiment/colab/pc_plane_detection.ipynb\" target=\"_parent\"><img src=\"https://colab.research.google.com/assets/colab-badge.svg\" alt=\"Open In Colab\"/></a>"
      ]
    },
    {
      "cell_type": "markdown",
      "metadata": {
        "id": "3sNuBXVKBTSM"
      },
      "source": [
        "# ポイントクラウドを用いた平面の検出\n",
        "\n",
        "\n",
        "Q21: ベクトル $\\bf a$ のノルム（長さ）を $\\|\\bf a\\|$と記す．また，ベクトル $\\bf a$ と $\\bf b$の内積を ${\\bf a}\\cdot{\\bf b}$，外積を ${\\bf a}\\times{\\bf b}$ と記す．__これらの記法を用いて__，「位置ベクトル ${\\bf p}_0$，${\\bf p}_1$，${\\bf p}_2$ の3点を通る平面」と「位置ベクトル $\\bf p$ の点」の間の距離 $d$ を求める公式を作れ．また，この公式を図を用いて解説せよ．"
      ]
    },
    {
      "cell_type": "markdown",
      "metadata": {
        "id": "LSD5bRlIBDBc"
      },
      "source": [
        "### [ポイントクラウドが保存されたファイル](https://github.com/tsakailab/cisexpkit/raw/master/Experiment/colab/pc_octahedron.zip)をダウンロードします．\n",
        "能動的ステレオカメラRealsense SR300で取得したカラー画像と深度画像および逆透視変換したポイントクラウドのファイルが含まれています．"
      ]
    },
    {
      "cell_type": "code",
      "metadata": {
        "id": "pSWRze0elK2r"
      },
      "source": [
        "import zipfile\n",
        "import os\n",
        "zipURL = \"https://github.com/tsakailab/cisexpkit/raw/master/Experiment/colab/pc_octahedron.zip\"\n",
        "!wget $zipURL --no-check-certificate --show-progress -q -O \"/tmp/pc_octahedron.zip\"\n",
        "with zipfile.ZipFile(\"/tmp/pc_octahedron.zip\", 'r') as f:\n",
        "    f.extractall(\"/tmp\")\n",
        "!ls /tmp/"
      ],
      "execution_count": null,
      "outputs": []
    },
    {
      "cell_type": "code",
      "metadata": {
        "id": "SiIFAkYrK3Q2"
      },
      "source": [
        "import numpy as np\n",
        "from PIL import Image\n",
        "img = np.asarray(Image.open(\"/tmp/color00pc.png\"))\n",
        "\n",
        "%matplotlib inline\n",
        "import matplotlib.pyplot as plt\n",
        "plt.imshow(img)"
      ],
      "execution_count": null,
      "outputs": []
    },
    {
      "cell_type": "markdown",
      "metadata": {
        "id": "TJ-WtYRYLsqk"
      },
      "source": [
        "## Open3Dでply形式のポイントクラウドを読み込み，plotlyで表示します．"
      ]
    },
    {
      "cell_type": "code",
      "metadata": {
        "id": "zv5QzTznygFw"
      },
      "source": [
        "!pip install -q open3d\n",
        "import open3d as o3d"
      ],
      "execution_count": null,
      "outputs": []
    },
    {
      "cell_type": "code",
      "metadata": {
        "id": "6_0QONwO6_XU"
      },
      "source": [
        "pcd = o3d.io.read_point_cloud(\"/tmp/xyzrgb0\"+str(int(np.random.choice(6,1)[0]))+\"pc.ply\")\n",
        "points = np.asarray(pcd.points)\n",
        "\n",
        "nd = points.shape[0]\n",
        "n = 30000\n",
        "p = np.random.choice(nd, min(n,nd), replace=False)\n",
        "print(\"%d out of %d points are displayed.\" % (n, nd))\n",
        "\n",
        "import plotly.graph_objs  as go\n",
        "xyz = points[p,:]\n",
        "rgb = np.asarray(pcd.colors)[p,:] * 1.5 # brighter\n",
        "\n",
        "trace = go.Scatter3d(x=xyz[:,0], y=xyz[:,1], z=xyz[:,2], mode='markers',\n",
        "                     marker=dict(size=2,\n",
        "                                color=['rgb({},{},{})'.format(r,g,b) for r,g,b in zip(rgb[:,0], rgb[:,1], rgb[:,2])],\n",
        "                                opacity=0.5))\n",
        "\n",
        "layout = go.Layout(margin=dict(l=0,r=0,b=0,t=0))\n",
        "fig = go.Figure(data=[trace], layout=layout)\n",
        "camera = dict(up=dict(x=0, y=0, z=1), center=dict(x=0, y=-0.4, z=0), eye=dict(x=0, y=0.8, z=-2))\n",
        "fig.update_layout(scene_camera=camera)\n",
        "\n",
        "fig.show()"
      ],
      "execution_count": null,
      "outputs": []
    },
    {
      "cell_type": "markdown",
      "metadata": {
        "id": "SoVz6oH0lUcd"
      },
      "source": [
        "## 最も多い点で表された平面の法線と通る点を推定する関数`DetectPlane`を定義します．\n",
        "[[Tarsha-Kurdi+08]](https://halshs.archives-ouvertes.fr/halshs-00278397/document)によるRANSACアルゴリズムを参考に実装したものです．\n",
        "\n",
        "入力:\n",
        "> `points`:  n行3列のNumPy配列．nは点の数，各列はX,Y,Z座標を表します．\n",
        "\n",
        "> `n_trials`:  試行回数（規定値30回）\n",
        "\n",
        "> `th`:  面からの距離の閾値（規定値3mm）\n",
        "\n",
        "出力\n",
        "> `plane`:  推定した平面のパラメタ．\n",
        "\n",
        ">> `plane[\"normal\"]`:  法線ベクトル\n",
        "\n",
        ">> `plane[\"p3idx\"]`:  通る3点の番号．面は `points[plane[\"p3idx\"][0]]`，`points[plane[\"p3idx\"][1]]`，`points[plane[\"p3idx\"][2]]`の3点を通ります．\n",
        "\n",
        "Q22: [RANSAC](https://en.wikipedia.org/wiki/Random_sample_consensus)とは何か．原理と特長を述べよ．\n",
        "\n",
        "Q23: 関数`DetectPlane`が平面の法線と通る点を推定する仕組みを解説せよ．\n"
      ]
    },
    {
      "cell_type": "code",
      "metadata": {
        "id": "2pz7d28I6kK6"
      },
      "source": [
        "def DetectPlane(points, n_trials=30, th=3):\n",
        "\n",
        "    # initial settings\n",
        "    plane = dict(normal=None, p3idx=None)\n",
        "    n_max, dev_min = 0, float(\"inf\")\n",
        "\n",
        "    for i in range(n_trials):\n",
        "        # randomly pick up three points\n",
        "        p3idx = np.random.choice(points.shape[0], 3, replace=False)\n",
        "\n",
        "        # compute a unit normal vector\n",
        "        normal = np.cross(points[p3idx[1]] - points[p3idx[0]], points[p3idx[2]] - points[p3idx[0]])\n",
        "        normal = normal / np.linalg.norm(normal)\n",
        "\n",
        "        # compute distances from the plane with a point p3idx[0] and the normal vector\n",
        "        distances = np.abs(np.dot(points - points[p3idx[0],:], normal))\n",
        "\n",
        "        # find the neighboring points to the plane\n",
        "        pidx_neighbors = np.where(distances < th)[0]\n",
        "        num_neighbors = len(pidx_neighbors)\n",
        "        deviation = np.std(distances[pidx_neighbors])\n",
        "\n",
        "        # check if the plane is better than the current estimate\n",
        "        if num_neighbors > n_max or (num_neighbors == n_max and deviation < dev_min):\n",
        "            n_max, dev_min = num_neighbors, deviation\n",
        "            plane[\"normal\"], plane[\"p3idx\"] = normal, p3idx\n",
        "\n",
        "    return plane"
      ],
      "execution_count": null,
      "outputs": []
    },
    {
      "cell_type": "markdown",
      "metadata": {
        "id": "KTd7F9K08LAU"
      },
      "source": [
        "### ポイントクラウドに適用して，最大の平面を検出します．\n",
        "\n",
        "Q24: 表示されるヒストグラムは何を表しているか．このヒストグラムから何がわかるか．"
      ]
    },
    {
      "cell_type": "code",
      "metadata": {
        "id": "08UI8ZK-B0AI"
      },
      "source": [
        "points = points[points[:,2]>0]\n",
        "plane1 = DetectPlane(points, n_trials=100, th=5)\n",
        "\n",
        "print(\"Estimated unit normal vector =\", plane1[\"normal\"])\n",
        "distances1 = np.abs(np.dot(points - points[plane1[\"p3idx\"][0],:], plane1[\"normal\"]))\n",
        "import matplotlib.pyplot as plt\n",
        "_ = plt.hist(distances1, bins=50)\n",
        "plt.xlabel(\"Distance [mm]\")"
      ],
      "execution_count": null,
      "outputs": []
    },
    {
      "cell_type": "markdown",
      "metadata": {
        "id": "L4B7mZ1a9_Yv"
      },
      "source": [
        "### 検出した平面に近い点を着色して表示します．\n",
        "\n",
        "「検出」の誤りは2種類あります．誤検出（false positive detection）と検出漏れ（false negative detection）です．平面の検出では，どのような原因で誤検出と検出漏れが起きるでしょうか．実験的に具体例を示しながら考察してください．\n",
        "\n",
        "Q25: 入力の `n_trials` や `th` の値が大きい・小さいと，`DetectPlane`による平面の検出結果はどうなるか．表示される図を用いて説明せよ．また，その結果になる原因を考察せよ．\n",
        "> 前のセル（`plane1 = ...`）で入力を変えて実行し，次のセル（`# plot the neighboring ...`）で表示・観察する．\n",
        "\n",
        "> 入力が同じでも`DetectPlane`は実行する毎に異なる結果を出力することがある．反復して観察すること．"
      ]
    },
    {
      "cell_type": "code",
      "metadata": {
        "id": "5DqSBAL_9xSx"
      },
      "source": [
        "# plot the neighboring points to the plane within 10mm\n",
        "disp_mm = 10.\n",
        "pidx_on_plane1 = np.where(distances1 < disp_mm)[0]\n",
        "p1 = np.intersect1d(p, pidx_on_plane1)\n",
        "print(\"Points within %2.0f mm of the plane are shown in green.\" % (disp_mm))\n",
        "xyz = points[p1,:]\n",
        "\n",
        "trace_p1 = go.Scatter3d(x=xyz[:,0], y=xyz[:,1], z=xyz[:,2], mode='markers',\n",
        "                           marker=dict(size=2, color='rgb(0,255,0)',\n",
        "                           opacity=0.05))\n",
        "\n",
        "layout = go.Layout(margin=dict(l=0,r=0,b=0,t=0))\n",
        "fig = go.Figure(data=[trace, trace_p1], layout=layout)\n",
        "camera = dict(up=dict(x=0, y=0, z=1), center=dict(x=0, y=-0.4, z=0), eye=dict(x=0, y=0.8, z=-2))\n",
        "fig.update_layout(scene_camera=camera)\n",
        "\n",
        "fig.show()"
      ],
      "execution_count": null,
      "outputs": []
    },
    {
      "cell_type": "markdown",
      "metadata": {
        "id": "3ECON2I8Blql"
      },
      "source": [
        "### 検出した平面に近い点を除いたポイントクラウドから，再び平面を検出します．"
      ]
    },
    {
      "cell_type": "code",
      "metadata": {
        "id": "M3T4jkaN-SEO"
      },
      "source": [
        "points1 = np.delete(points, pidx_on_plane1, axis=0)\n",
        "\n",
        "plane2 = DetectPlane(points1, n_trials=100, th=5)\n",
        "\n",
        "print(\"Estimated unit normal vector =\", plane2[\"normal\"])\n",
        "distances2 = np.abs(np.dot(points1 - points1[plane2[\"p3idx\"][0],:], plane2[\"normal\"]))\n",
        "import matplotlib.pyplot as plt\n",
        "_ = plt.hist(distances2, bins=50)\n",
        "plt.xlabel(\"Distance [mm]\")"
      ],
      "execution_count": null,
      "outputs": []
    },
    {
      "cell_type": "markdown",
      "metadata": {
        "id": "pDW6kyEYB9JB"
      },
      "source": [
        "### 検出した平面に近い点を着色して表示します．\n",
        "\n",
        "Q28: 検出される2つ目の平面について報告せよ．前のセル（`points1 = ...`）と次のセル（`# plot the neighboring ...`）の実行を何度か繰り返すこと．"
      ]
    },
    {
      "cell_type": "code",
      "metadata": {
        "id": "0_C5k8pC-jp8"
      },
      "source": [
        "# plot the neighboring points to the plane within 10mm\n",
        "disp_mm = 10.\n",
        "pidx_on_plane2 = np.where(distances2 < disp_mm)[0]\n",
        "p2 = np.intersect1d(p, pidx_on_plane2)\n",
        "print(\"Points within %2.0f mm of the 2nd plane are shown in red.\" % (disp_mm))\n",
        "xyz = points1[p2,:]\n",
        "\n",
        "trace_p2 = go.Scatter3d(x=xyz[:,0], y=xyz[:,1], z=xyz[:,2], mode='markers',\n",
        "                           marker=dict(size=2, color='rgb(255,0,0)',\n",
        "                           opacity=0.05))\n",
        "\n",
        "layout = go.Layout(margin=dict(l=0,r=0,b=0,t=0))\n",
        "fig = go.Figure(data=[trace, trace_p1, trace_p2], layout=layout)\n",
        "camera = dict(up=dict(x=0, y=0, z=1), center=dict(x=0, y=-0.4, z=0), eye=dict(x=0, y=0.8, z=-2))\n",
        "fig.update_layout(scene_camera=camera)\n",
        "\n",
        "fig.show()"
      ],
      "execution_count": null,
      "outputs": []
    }
  ]
}