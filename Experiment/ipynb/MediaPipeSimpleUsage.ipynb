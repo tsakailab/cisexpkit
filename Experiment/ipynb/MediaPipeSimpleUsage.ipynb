{
 "cells": [
  {
   "cell_type": "markdown",
   "id": "9ba9aa83",
   "metadata": {},
   "source": [
    "## MediaPipe Simple Usage"
   ]
  },
  {
   "cell_type": "markdown",
   "id": "677fdacc",
   "metadata": {},
   "source": [
    "On Ubuntu, `ls /dev/video*` displays available camera devices."
   ]
  },
  {
   "cell_type": "code",
   "execution_count": null,
   "id": "e0c89085",
   "metadata": {},
   "outputs": [],
   "source": [
    "%ls /dev/video*"
   ]
  },
  {
   "cell_type": "code",
   "execution_count": null,
   "id": "5bfdce1c",
   "metadata": {},
   "outputs": [],
   "source": [
    "import cv2\n",
    "import mediapipe as mp\n",
    "import time\n",
    "\n",
    "mp_facedetector = mp.solutions.face_detection\n",
    "mp_draw = mp.solutions.drawing_utils\n",
    "\n",
    "cap = cv2.VideoCapture(4)\n",
    "# 2 4 6\n",
    "\n",
    "#cap.release()"
   ]
  },
  {
   "cell_type": "markdown",
   "id": "c9daf907",
   "metadata": {},
   "source": [
    "### Hand Landmarks"
   ]
  },
  {
   "cell_type": "code",
   "execution_count": null,
   "id": "4128bf81",
   "metadata": {},
   "outputs": [],
   "source": [
    "hands = mp.solutions.hands\n",
    "hands_mesh = hands.Hands(static_image_mode=True, min_detection_confidence=0.7)\n",
    "draw = mp.solutions.drawing_utils\n",
    "\n",
    "while True:\n",
    "    success, bgr = cap.read()\n",
    "    rgb = cv2.cvtColor(bgr, cv2.COLOR_BGR2RGB)\n",
    "\n",
    "    results = hands_mesh.process(rgb)\n",
    "\n",
    "    if results.multi_hand_landmarks:\n",
    "        for i in results.multi_hand_landmarks:\n",
    "            draw.draw_landmarks(bgr, i, hands.HAND_CONNECTIONS, \n",
    "                landmark_drawing_spec=draw.DrawingSpec(color = (255, 0,0),circle_radius=4, thickness=3),\n",
    "                connection_drawing_spec=draw.DrawingSpec(thickness=3, color=(0,0,255)))\n",
    "\n",
    "    cv2.imshow(\"Hand Landmarks\", bgr)\n",
    "\n",
    "    key = cv2.waitKey(5)\n",
    "    if key & 0xFF == 27 or key == ord('q'):\n",
    "        cv2.destroyAllWindows()\n",
    "        break\n"
   ]
  },
  {
   "cell_type": "markdown",
   "id": "8f6d3671",
   "metadata": {},
   "source": [
    "### Face Detection"
   ]
  },
  {
   "cell_type": "code",
   "execution_count": null,
   "id": "2852c794",
   "metadata": {},
   "outputs": [],
   "source": [
    "face_detection = mp_facedetector.FaceDetection(min_detection_confidence=0.7)\n",
    "\n",
    "while cap.isOpened():\n",
    "\n",
    "    success, bgr = cap.read()\n",
    "    start = time.time()\n",
    "\n",
    "    # Convert the BGR image to RGB\n",
    "    rgb = cv2.cvtColor(bgr, cv2.COLOR_BGR2RGB)\n",
    "\n",
    "    # Process the image and find faces\n",
    "    results = face_detection.process(rgb)\n",
    "\n",
    "\n",
    "    # If detected, put\n",
    "    if results.detections:\n",
    "        for id, detection in enumerate(results.detections):\n",
    "\n",
    "            mp_draw.draw_detection(bgr, detection)\n",
    "            #print(id, detection)\n",
    "\n",
    "            bBox = detection.location_data.relative_bounding_box\n",
    "            h, w, c = bgr.shape\n",
    "            boundBox = int(bBox.xmin * w), int(bBox.ymin * h), int(bBox.width * w), int(bBox.height * h)\n",
    "\n",
    "            cv2.putText(bgr, f'{int(detection.score[0]*100)}%', (boundBox[0], boundBox[1] - 20), \n",
    "                        cv2.FONT_HERSHEY_SIMPLEX, 2, (0,255,0), 2)\n",
    "\n",
    "\n",
    "    end = time.time()\n",
    "    totalTime = end - start\n",
    "    fps = 1 / totalTime\n",
    "    cv2.putText(bgr, f'FPS: {int(fps)}', (20,70), cv2.FONT_HERSHEY_SIMPLEX, 1.5, (0,255,0), 2)\n",
    "\n",
    "    cv2.imshow('Face Detection', bgr)\n",
    "\n",
    "    key = cv2.waitKey(5)\n",
    "    if key & 0xFF == 27 or key == ord('q'):\n",
    "        cv2.destroyAllWindows()\n",
    "        break\n"
   ]
  },
  {
   "cell_type": "code",
   "execution_count": null,
   "id": "8f379e00",
   "metadata": {},
   "outputs": [],
   "source": []
  }
 ],
 "metadata": {
  "kernelspec": {
   "display_name": "Python 3 (ipykernel)",
   "language": "python",
   "name": "python3"
  },
  "language_info": {
   "codemirror_mode": {
    "name": "ipython",
    "version": 3
   },
   "file_extension": ".py",
   "mimetype": "text/x-python",
   "name": "python",
   "nbconvert_exporter": "python",
   "pygments_lexer": "ipython3",
   "version": "3.7.16"
  }
 },
 "nbformat": 4,
 "nbformat_minor": 5
}
