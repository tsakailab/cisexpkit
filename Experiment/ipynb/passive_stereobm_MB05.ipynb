{
  "cells": [
    {
      "cell_type": "markdown",
      "metadata": {
        "id": "3sNuBXVKBTSM"
      },
      "source": [
        "# 受動的ステレオの実践"
      ]
    },
    {
      "cell_type": "markdown",
      "metadata": {
        "id": "4Nes2DjWA3tR"
      },
      "source": [
        "## [ブロックマッチング](https://en.wikipedia.org/wiki/Block-matching_algorithm)で[視差](https://github.com/tsakailab/cisexpkit/blob/master/Experiment/Document/ActiveStereo_6slides.pdf)を測りましょう．"
      ]
    },
    {
      "cell_type": "markdown",
      "metadata": {
        "id": "LSD5bRlIBDBc"
      },
      "source": [
        "### 左画像と右画像の例を取得して表示します．\n",
        "[Middlebury Stereo Datasets](http://vision.middlebury.edu/stereo/data/) の [2005 Datasets](http://vision.middlebury.edu/stereo/data/scenes2005/) を使います．\n",
        "\n",
        "Q01: [Middlebury Stereo Vision Page](http://vision.middlebury.edu/stereo/)とは何か．どのような用途でどのようなデータがあるか．"
      ]
    },
    {
      "cell_type": "code",
      "execution_count": null,
      "metadata": {
        "id": "A8B6UzfBiwmX"
      },
      "outputs": [],
      "source": [
        "MB05_names = [\"Art\", \"Books\", \"Dolls\", \"Laundry\", \"Moebius\", \"Reindeer\"]\n",
        "MB05_name = MB05_names[  4  ]  # choose 0 to 5\n",
        "MB05_scales = [(\"FullSize\", 1.0), (\"HalfSize\", 2.0), (\"ThirdSize\", 3.0)]\n",
        "MB05_scale = MB05_scales[2]  # choose 0 to 2\n",
        "zipURL = \"http://vision.middlebury.edu/stereo/data/scenes2005/\" + MB05_scale[0] + \"/zip-2views/\" + MB05_name +\"-2views.zip\"\n",
        "\n",
        "print(\"Downloading the dataset \" + MB05_name + \" (\" + MB05_scale[0] + \") ..\")\n",
        "!wget $zipURL --no-check-certificate --show-progress -q -O \"/tmp/tmp.zip\""
      ]
    },
    {
      "cell_type": "code",
      "execution_count": null,
      "metadata": {
        "id": "y5xyRsvyxJdp"
      },
      "outputs": [],
      "source": [
        "import zipfile\n",
        "import os\n",
        "\n",
        "with zipfile.ZipFile(\"/tmp/tmp.zip\", 'r') as f:\n",
        "    f.extractall(\"/tmp\")\n",
        "\n",
        "import numpy\n",
        "from PIL import Image\n",
        "\n",
        "root_dir = \"/tmp/\" + MB05_name\n",
        "left = numpy.asarray(Image.open(root_dir + '/view1.png'))\n",
        "right = numpy.asarray(Image.open(root_dir + '/view5.png'))\n",
        "disp1 = numpy.asarray(Image.open(root_dir + '/disp1.png')) / MB05_scale[1]\n",
        "height, width, colors = left.shape\n",
        "with open(root_dir + '/dmin.txt', 'r') as f:\n",
        "    doffs = int(f.read()) / MB05_scale[1]\n",
        "\n",
        "%matplotlib inline\n",
        "import matplotlib.pyplot as plt\n",
        "plt.figure(figsize=(15,4))\n",
        "plt.subplot(1,3,1)\n",
        "plt.imshow(left)\n",
        "plt.subplot(1,3,2)\n",
        "plt.imshow(right)\n",
        "plt.subplot(1,3,3)\n",
        "plt.imshow(disp1, cmap=\"gray\")"
      ]
    },
    {
      "cell_type": "markdown",
      "metadata": {
        "id": "IUiR6hlbIKGB"
      },
      "source": [
        "### [OpenCV](https://opencv.org/)の[StereoBM](https://docs.opencv.org/4.1.2/dd/d53/tutorial_py_depthmap.html)を使ってみます．\n",
        "Q02: [OpenCV](https://opencv.org/)とは何か．\n",
        "\n",
        "Q03: 視差を推定するブロックマッチング（[stereoBM](https://docs.opencv.org/4.1.2/dd/d53/tutorial_py_depthmap.html)または[stereoSGBM](https://en.wikipedia.org/wiki/Semi-global_matching)）の仕組みを説明せよ．\n",
        "> ヒント: 透視変換・逆透視変換と混同しないこと．\n",
        "\n",
        "Q04: blockの値を変えると，視差の推定結果（disparity）はどのように変わるか．理由と共に答えよ．"
      ]
    },
    {
      "cell_type": "code",
      "execution_count": null,
      "metadata": {
        "id": "YgdoSWSgwLxB"
      },
      "outputs": [],
      "source": [
        "import cv2\n",
        "disparities = 64\n",
        "block = 15\n",
        "\n",
        "# https://docs.opencv.org/4.1.2/dd/d53/tutorial_py_depthmap.html\n",
        "#sbm = cv2.StereoBM_create(numDisparities=disparities, blockSize=block)\n",
        "\n",
        "# https://en.wikipedia.org/wiki/Semi-global_matching\n",
        "# https://core.ac.uk/download/pdf/11134866.pdf\n",
        "sbm = cv2.StereoSGBM_create(numDisparities=disparities, blockSize=block, minDisparity=1)\n",
        "\n",
        "cvleft = cv2.cvtColor(left, cv2.COLOR_RGB2GRAY)\n",
        "cvright = cv2.cvtColor(right, cv2.COLOR_RGB2GRAY)\n",
        "disparity = sbm.compute(cvleft, cvright) / 16\n",
        "import matplotlib.pyplot as plt\n",
        "plt.imshow(disparity, cmap=\"gray\", vmin=0, vmax=disparities)"
      ]
    },
    {
      "cell_type": "markdown",
      "metadata": {
        "id": "hdWPIeWwKF6o"
      },
      "source": [
        "### 真値と比較してみましょう．\n",
        "Q05: 物体の片側に大きな誤差が現れやすいのはなぜか．"
      ]
    },
    {
      "cell_type": "code",
      "execution_count": null,
      "metadata": {
        "id": "yim1wr-JupUV"
      },
      "outputs": [],
      "source": [
        "plt.figure(figsize=(15,4))\n",
        "plt.subplot(1,3,1)\n",
        "plt.title(\"Estimated\")\n",
        "plt.imshow(disparity, cmap=\"gray\", vmin=0, vmax=disparities)\n",
        "plt.subplot(1,3,2)\n",
        "plt.title(\"Ground truth\")\n",
        "plt.imshow(disp1, cmap=\"gray\", vmin=0, vmax=disparities)\n",
        "plt.subplot(1,3,3)\n",
        "plt.title(\"Error\")\n",
        "plt.imshow(numpy.abs(disparity-disp1), cmap=\"gray\", vmin=0, vmax=disparities)"
      ]
    },
    {
      "cell_type": "markdown",
      "metadata": {
        "id": "GnSilKqtJ89Y"
      },
      "source": [
        "## ブロックマッチングの算法を自分で書いて確かめましょう．\n",
        "1. [Depth from Stereo](https://github.com/IntelRealSense/librealsense/blob/master/doc/depth-from-stereo.md)をよく読んでください．\n",
        "2. 仕組みを理解するために，画素毎の処理をfor文で実装します．[Depth from Stereo](https://github.com/IntelRealSense/librealsense/blob/master/doc/depth-from-stereo.md)のページの前半にある [SSD block-matching algorithm](https://github.com/IntelRealSense/librealsense/blob/master/doc/depth-from-stereo.md#stereoscopic-vision) を参考に下記のセルにコードを書き込んでください．\n",
        "3. セルを実行してください．エラーがなければdisparityが表示されます．\n",
        "\n",
        "### 注意：実行は数十秒～数分かかります．\n",
        "Q06: OpenCV の関数を使って推定した視差とどこが異なるか．どのような工夫を施すと，StereoBM または StereoSGBM に近い推定結果や計算時間を達成できるか．"
      ]
    },
    {
      "cell_type": "code",
      "execution_count": null,
      "metadata": {
        "id": "4bQgAuSFtykn"
      },
      "outputs": [],
      "source": [
        "block = 15\n",
        "disparities = 64  # num of disparities to consider\n",
        "\n",
        "xrange = lambda a,b: range(a,b)\n",
        "disparity = numpy.zeros((height, width))\n",
        "\n",
        "### https://github.com/IntelRealSense/librealsense/blob/master/doc/depth-from-stereo.md#stereoscopic-vision\n",
        "### disparity[i, j]を計算する SSD (Sum of Squared Differences) block-matching algorithm\n",
        "### （i,j,dのfor文）をここに書く．\n",
        "\n",
        "\n",
        "import matplotlib.pyplot as plt\n",
        "plt.imshow(disparity, cmap=\"gray\", vmin=0, vmax=disparities)"
      ]
    },
    {
      "cell_type": "code",
      "execution_count": null,
      "metadata": {
        "id": "0wV1LFH3x0cB"
      },
      "outputs": [],
      "source": [
        "plt.figure(figsize=(15,4))\n",
        "plt.subplot(1,3,1)\n",
        "plt.title(\"Estimated\")\n",
        "plt.imshow(disparity, cmap=\"gray\", vmin=0, vmax=disparities)\n",
        "plt.subplot(1,3,2)\n",
        "plt.title(\"Ground truth\")\n",
        "plt.imshow(disp1, cmap=\"gray\", vmin=0, vmax=disparities)\n",
        "plt.subplot(1,3,3)\n",
        "plt.title(\"Error\")\n",
        "plt.imshow(numpy.abs(disparity-disp1), cmap=\"gray\", vmin=0, vmax=disparities)"
      ]
    },
    {
      "cell_type": "markdown",
      "metadata": {
        "id": "Typgeo6w5kIy"
      },
      "source": [
        "## 予習・復習\n",
        "Q07: 視差を推定する方法には，ブロックマッチングの他にどのような手法があるか．[参考](https://www.dropbox.com/s/9mlomn6edk5rcpi/stereo.pdf)\n",
        "\n",
        "Q08: 本実験の例を，もし[能動的ステレオ（active stereo）](https://github.com/IntelRealSense/librealsense/blob/master/doc/depth-from-stereo.md#passive-vs-active-stereo)で実行したら，結果はどう異なるだろうか．本実験の例を示しながら説明せよ．\n",
        "\n",
        "Q09: [Middlebury 2005 stereo datasets](http://vision.middlebury.edu/stereo/data/scenes2005/#description)の詳細では，カメラの焦点距離と基線の長さはそれぞれいくらと述べているか．単位と共に答えよ．\n",
        "\n",
        "Q10: [Middlebury 2005 Stereo datasets](http://vision.middlebury.edu/stereo/data/scenes2005/)について，画素[i, j] の視差 d = disparity[i, j] から3次元座標(X,Y,Z)の深さZを計算する式を作成せよ．ただし，焦点距離をfocal_length，基線の長さを baseline とする．\n",
        "> ヒント1: \"dmin.txt\" に書かれている値も使用する．\n",
        "\n",
        "> ヒント2: [Middlebury 2014 stereo datasets](http://vision.middlebury.edu/stereo/data/scenes2014/#description)"
      ]
    },
    {
      "cell_type": "code",
      "source": [],
      "metadata": {
        "id": "uP9s_f1-cbHq"
      },
      "execution_count": null,
      "outputs": []
    }
  ],
  "metadata": {
    "colab": {
      "provenance": [],
      "toc_visible": true,
      "authorship_tag": "ABX9TyP3KNhrui2gB+1PJwgAJC38"
    },
    "kernelspec": {
      "display_name": "Python 3",
      "language": "python",
      "name": "python3"
    },
    "language_info": {
      "codemirror_mode": {
        "name": "ipython",
        "version": 3
      },
      "file_extension": ".py",
      "mimetype": "text/x-python",
      "name": "python",
      "nbconvert_exporter": "python",
      "pygments_lexer": "ipython3",
      "version": "3.7.10"
    }
  },
  "nbformat": 4,
  "nbformat_minor": 0
}